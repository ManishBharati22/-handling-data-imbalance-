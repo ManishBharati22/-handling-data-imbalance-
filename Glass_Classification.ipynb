{
  "nbformat": 4,
  "nbformat_minor": 0,
  "metadata": {
    "colab": {
      "private_outputs": true,
      "provenance": []
    },
    "kernelspec": {
      "name": "python3",
      "display_name": "Python 3"
    },
    "language_info": {
      "name": "python"
    }
  },
  "cells": [
    {
      "cell_type": "markdown",
      "source": [
        "The data set provides details about 6 types of glass, defined in terms of their oxide content (i.e. Na, Fe, K, etc)."
      ],
      "metadata": {
        "id": "nLlZ3MqEp1a5"
      }
    },
    {
      "cell_type": "markdown",
      "source": [
        "**1:   building_windows_float_processed,\n",
        "2: building_windows_non_float_processed,\n",
        "3:   vehicle_windows_float_processed,\n",
        "4: vehicle_windows_non_float_processed,\n",
        "5:   containers,\n",
        "6: tableware, 7: headlamps***"
      ],
      "metadata": {
        "id": "2ii9EkHQqYqV"
      }
    },
    {
      "cell_type": "markdown",
      "source": [
        "# **Import libraries**"
      ],
      "metadata": {
        "id": "iMn4EKyIqw08"
      }
    },
    {
      "cell_type": "code",
      "execution_count": null,
      "metadata": {
        "id": "ycI_bVV8Fe3K"
      },
      "outputs": [],
      "source": [
        "import numpy as np\n",
        "import pandas as pd\n",
        "import matplotlib.pyplot as plt\n",
        "import seaborn as sns"
      ]
    },
    {
      "cell_type": "code",
      "source": [
        "import warnings\n",
        "warnings.filterwarnings('ignore')"
      ],
      "metadata": {
        "id": "lY8YHVr4JDh3"
      },
      "execution_count": null,
      "outputs": []
    },
    {
      "cell_type": "code",
      "source": [
        "df = pd.read_csv(\"/content/drive/MyDrive/PROJECT /glass.data\" , sep = ',' , header =None)\n"
      ],
      "metadata": {
        "id": "0GqkDpjNSm1Y"
      },
      "execution_count": null,
      "outputs": []
    },
    {
      "cell_type": "code",
      "source": [
        "df.columns = ['ID number', 'RI', 'Na', 'Mg', 'Al', 'Si', 'K', 'Ca', 'Ba', 'Fe', 'Type of glass']"
      ],
      "metadata": {
        "id": "ySlq5qaOStya"
      },
      "execution_count": null,
      "outputs": []
    },
    {
      "cell_type": "code",
      "source": [
        "df"
      ],
      "metadata": {
        "id": "AVJEby6iS4vb"
      },
      "execution_count": null,
      "outputs": []
    },
    {
      "cell_type": "code",
      "source": [
        "df.shape\n"
      ],
      "metadata": {
        "id": "bF_gbqI_S64g"
      },
      "execution_count": null,
      "outputs": []
    },
    {
      "cell_type": "code",
      "source": [
        "df[\"Type of glass\"].values"
      ],
      "metadata": {
        "id": "0f-T3b7lYCJK"
      },
      "execution_count": null,
      "outputs": []
    },
    {
      "cell_type": "code",
      "source": [
        "df.info()"
      ],
      "metadata": {
        "id": "0A7eb4nMT9il"
      },
      "execution_count": null,
      "outputs": []
    },
    {
      "cell_type": "code",
      "source": [
        "df.describe()"
      ],
      "metadata": {
        "id": "GNVnb7faT_2D"
      },
      "execution_count": null,
      "outputs": []
    },
    {
      "cell_type": "code",
      "source": [
        "df.isnull().sum()"
      ],
      "metadata": {
        "id": "GjMGvahOUTvu"
      },
      "execution_count": null,
      "outputs": []
    },
    {
      "cell_type": "code",
      "source": [
        "df.corr()"
      ],
      "metadata": {
        "id": "29pbbX75UC-V"
      },
      "execution_count": null,
      "outputs": []
    },
    {
      "cell_type": "code",
      "source": [
        "df['Type of glass'].value_counts()"
      ],
      "metadata": {
        "id": "o1TNQ7IuUHN5"
      },
      "execution_count": null,
      "outputs": []
    },
    {
      "cell_type": "code",
      "source": [
        "df['Type of glass'].value_counts()"
      ],
      "metadata": {
        "id": "bYOhd7nGWFAg"
      },
      "execution_count": null,
      "outputs": []
    },
    {
      "cell_type": "code",
      "source": [
        "df.columns"
      ],
      "metadata": {
        "id": "EhtwzY6Gr1em"
      },
      "execution_count": null,
      "outputs": []
    },
    {
      "cell_type": "code",
      "source": [
        "sns.countplot(x ='Type of glass' , hue ='Type of glass'\t,  data = df)\n",
        "plt.xlabel(\"Type of glass\")\n",
        "plt.ylabel(\"counts\")\n",
        "plt.title(\"Glass_distribution\")"
      ],
      "metadata": {
        "id": "ldF7P9gRXAdq"
      },
      "execution_count": null,
      "outputs": []
    },
    {
      "cell_type": "code",
      "source": [
        "sns.pairplot(df , hue = \"Type of glass\")"
      ],
      "metadata": {
        "id": "1vq0cXWBoLbE"
      },
      "execution_count": null,
      "outputs": []
    },
    {
      "cell_type": "code",
      "source": [
        "sns.boxplot(y='RI', x='Type of glass', hue = \"Type of glass\", data=df)\n",
        "plt.xlabel(\"Glass type\")\n",
        "plt.ylabel(\"RI\")\n"
      ],
      "metadata": {
        "id": "q4bqI8FYohWe"
      },
      "execution_count": null,
      "outputs": []
    },
    {
      "cell_type": "code",
      "source": [
        "df =df.drop(df.columns[0] , axis = 1)"
      ],
      "metadata": {
        "id": "DF3Vvi2Efxst"
      },
      "execution_count": null,
      "outputs": []
    },
    {
      "cell_type": "code",
      "source": [
        "df.corr()"
      ],
      "metadata": {
        "id": "21cH1qiu2gK_"
      },
      "execution_count": null,
      "outputs": []
    },
    {
      "cell_type": "code",
      "source": [
        "sns.heatmap(df.corr() , annot =True)"
      ],
      "metadata": {
        "id": "ECT7dLc72gPs"
      },
      "execution_count": null,
      "outputs": []
    },
    {
      "cell_type": "code",
      "source": [
        "sns.boxplot(y='Na', x='Type of glass', data=df )\n",
        "plt.xlabel(\"Glass type\")\n",
        "plt.ylabel(\"Na\")\n"
      ],
      "metadata": {
        "id": "sRn3IfHH2gSJ"
      },
      "execution_count": null,
      "outputs": []
    },
    {
      "cell_type": "code",
      "source": [
        "sns.boxplot(y='Mg', x='Type of glass', data=df )\n",
        "plt.xlabel(\"Glass type\")\n",
        "plt.ylabel(\"Mg\")\n"
      ],
      "metadata": {
        "id": "6nglf-cMJHIA"
      },
      "execution_count": null,
      "outputs": []
    },
    {
      "cell_type": "code",
      "source": [
        "sns.boxplot(y= 'Al', x='Type of glass', data=df )\n",
        "plt.xlabel(\"Glass type\")\n",
        "plt.ylabel(\"Al\")\n"
      ],
      "metadata": {
        "id": "QVAEpqhSJUU-"
      },
      "execution_count": null,
      "outputs": []
    },
    {
      "cell_type": "code",
      "source": [
        "sns.boxplot(y='Si', x='Type of glass', data=df )\n",
        "plt.xlabel(\"Glass type\")\n",
        "plt.ylabel(\"Si\")\n"
      ],
      "metadata": {
        "id": "lWFWl9djJch6"
      },
      "execution_count": null,
      "outputs": []
    },
    {
      "cell_type": "code",
      "source": [
        "sns.boxplot(y='K', x='Type of glass', data=df )\n",
        "plt.xlabel(\"Glass type\")\n",
        "plt.ylabel(\"K\")\n"
      ],
      "metadata": {
        "id": "o0DejcFDJhI7"
      },
      "execution_count": null,
      "outputs": []
    },
    {
      "cell_type": "code",
      "source": [
        "sns.boxplot(y='Ca', x='Type of glass', data=df )\n",
        "plt.xlabel(\"Glass type\")\n",
        "plt.ylabel(\"Ca\")\n"
      ],
      "metadata": {
        "id": "nuHzuhWNJm5u"
      },
      "execution_count": null,
      "outputs": []
    },
    {
      "cell_type": "code",
      "source": [
        "sns.boxplot(y='Ba', x='Type of glass', data=df )\n",
        "plt.xlabel(\"Glass type\")\n",
        "plt.ylabel(\"Ba\")\n"
      ],
      "metadata": {
        "id": "-IvwXfOTJrHx"
      },
      "execution_count": null,
      "outputs": []
    },
    {
      "cell_type": "code",
      "source": [
        "sns.boxplot(y='Fe', x='Type of glass', data=df )\n",
        "plt.xlabel(\"Glass type\")\n",
        "plt.ylabel(\"Fe\")\n"
      ],
      "metadata": {
        "id": "IqJ0XQe4JwYr"
      },
      "execution_count": null,
      "outputs": []
    },
    {
      "cell_type": "code",
      "source": [
        "df.columns"
      ],
      "metadata": {
        "id": "MdRDSxhj2gWM"
      },
      "execution_count": null,
      "outputs": []
    },
    {
      "cell_type": "code",
      "source": [
        "sns.histplot(df)"
      ],
      "metadata": {
        "id": "0ai8MyX_1kud"
      },
      "execution_count": null,
      "outputs": []
    },
    {
      "cell_type": "code",
      "source": [
        "df"
      ],
      "metadata": {
        "id": "8NSFyUNKnMy9"
      },
      "execution_count": null,
      "outputs": []
    },
    {
      "cell_type": "code",
      "source": [
        "\n",
        "\n",
        "X = df.drop('Type of glass' , axis =1)\n",
        "\n",
        "y = df['Type of glass']\n",
        "\n",
        "\n",
        "\n",
        "\n",
        "\n",
        "\n"
      ],
      "metadata": {
        "id": "JtJhwG5loE99"
      },
      "execution_count": null,
      "outputs": []
    },
    {
      "cell_type": "code",
      "source": [
        "X"
      ],
      "metadata": {
        "id": "HopTbNqPuB2d"
      },
      "execution_count": null,
      "outputs": []
    },
    {
      "cell_type": "markdown",
      "source": [
        "**SCALING**"
      ],
      "metadata": {
        "id": "kWANn40PRBbS"
      }
    },
    {
      "cell_type": "code",
      "source": [
        "from sklearn.preprocessing import MinMaxScaler\n",
        "scaler = MinMaxScaler()\n",
        "X =scaler.fit_transform(X)\n",
        "X = pd.DataFrame(X)\n",
        "X"
      ],
      "metadata": {
        "id": "jC1EwbawrvOY"
      },
      "execution_count": null,
      "outputs": []
    },
    {
      "cell_type": "code",
      "source": [
        "X = X.rename(columns= { 0:'RI', 1:'Na', 2:'Mg' ,3:'Al' , 4:'Si' , 5:'K' , 6:'Ca'\t, 7:'Ba' ,\t8:'Fe'})"
      ],
      "metadata": {
        "id": "mkidbJkDsXVd"
      },
      "execution_count": null,
      "outputs": []
    },
    {
      "cell_type": "code",
      "source": [
        "X"
      ],
      "metadata": {
        "id": "6jSX-Gl-t42x"
      },
      "execution_count": null,
      "outputs": []
    },
    {
      "cell_type": "code",
      "source": [
        "pd.get_dummies(y)"
      ],
      "metadata": {
        "id": "xSDTwQNrvLiZ"
      },
      "execution_count": null,
      "outputs": []
    },
    {
      "cell_type": "markdown",
      "source": [
        "**SPLITTING**"
      ],
      "metadata": {
        "id": "wKfE_lC3RITi"
      }
    },
    {
      "cell_type": "code",
      "source": [
        "from sklearn.model_selection import train_test_split"
      ],
      "metadata": {
        "id": "91-iynaHvtvP"
      },
      "execution_count": null,
      "outputs": []
    },
    {
      "cell_type": "code",
      "source": [
        "X_train , X_test ,  y_train , y_test = train_test_split(X, y , test_size = 0.2 , random_state =42 , stratify =y )"
      ],
      "metadata": {
        "id": "RH2ivtTlv3ih"
      },
      "execution_count": null,
      "outputs": []
    },
    {
      "cell_type": "code",
      "source": [
        "y_train.value_counts()"
      ],
      "metadata": {
        "id": "zLbmJVVg34Ct"
      },
      "execution_count": null,
      "outputs": []
    },
    {
      "cell_type": "code",
      "source": [
        "from imblearn.over_sampling import RandomOverSampler\n",
        "\n",
        "us = RandomOverSampler(random_state=0)\n",
        "X_train_sm , y_train_sm = us.fit_resample(X_train, y_train)\n",
        "\n"
      ],
      "metadata": {
        "id": "JXRYZQCr0teG"
      },
      "execution_count": null,
      "outputs": []
    },
    {
      "cell_type": "code",
      "source": [
        "print(y_train_sm.value_counts())"
      ],
      "metadata": {
        "id": "RnmSIIkE3LDH"
      },
      "execution_count": null,
      "outputs": []
    },
    {
      "cell_type": "code",
      "source": [
        "from sklearn.ensemble import RandomForestClassifier\n",
        "from sklearn.metrics import accuracy_score , classification_report\n"
      ],
      "metadata": {
        "id": "G1i2QVsowJqJ"
      },
      "execution_count": null,
      "outputs": []
    },
    {
      "cell_type": "code",
      "source": [
        "\n",
        "model = RandomForestClassifier(random_state=0 )\n",
        "rf = model.fit(X_train_sm , y_train_sm)\n",
        "y_pred = rf.predict(X_test)\n",
        "accuracy = accuracy_score (y_test , y_pred)\n",
        "accuracy\n"
      ],
      "metadata": {
        "id": "FDz99wlHwc6f"
      },
      "execution_count": null,
      "outputs": []
    },
    {
      "cell_type": "code",
      "source": [
        "from sklearn.model_selection  import StratifiedKFold , cross_val_score\n",
        "stratified_kfold = StratifiedKFold(n_splits=10, shuffle=True, random_state=42 )\n",
        "cv_scores = cross_val_score(rf, X, y, cv=stratified_kfold, scoring='accuracy')\n",
        "print(cv_scores)\n",
        "print(cv_scores.mean())\n",
        "\n"
      ],
      "metadata": {
        "id": "-24juAl7xCUG"
      },
      "execution_count": null,
      "outputs": []
    },
    {
      "cell_type": "code",
      "source": [
        "\n",
        "print(classification_report(y_test, y_pred))"
      ],
      "metadata": {
        "id": "JGzTpTVrxlMD"
      },
      "execution_count": null,
      "outputs": []
    },
    {
      "cell_type": "code",
      "source": [
        "from sklearn.metrics import confusion_matrix\n",
        "sd = confusion_matrix(y_test , y_pred)\n",
        "sd"
      ],
      "metadata": {
        "id": "S04S3TqgTLeF"
      },
      "execution_count": null,
      "outputs": []
    },
    {
      "cell_type": "code",
      "source": [
        "from sklearn.tree import DecisionTreeClassifier\n",
        "dt = DecisionTreeClassifier(random_state=42)\n",
        "dt.fit(X_train_sm, y_train_sm)\n",
        "prediction = dt.predict(X_test)\n",
        "acc= accuracy_score(y_test , prediction)\n",
        "acc"
      ],
      "metadata": {
        "id": "HNpJEdkVwtxX"
      },
      "execution_count": null,
      "outputs": []
    },
    {
      "cell_type": "code",
      "source": [
        "from sklearn.model_selection  import StratifiedKFold , cross_val_score\n",
        "stratified_kfold = StratifiedKFold(n_splits=5, shuffle=True, random_state=0 )\n",
        "cv_scores = cross_val_score(dt, X, y, cv=stratified_kfold, scoring='accuracy')\n",
        "print(cv_scores)\n",
        "print(cv_scores.mean())\n",
        "\n"
      ],
      "metadata": {
        "id": "1D2IkTc4GRKi"
      },
      "execution_count": null,
      "outputs": []
    },
    {
      "cell_type": "code",
      "source": [
        "print(classification_report(y_test , prediction))"
      ],
      "metadata": {
        "id": "ALaZB_F_xltO"
      },
      "execution_count": null,
      "outputs": []
    },
    {
      "cell_type": "code",
      "source": [
        "from sklearn.svm import SVC"
      ],
      "metadata": {
        "id": "D6moQtSmxkTp"
      },
      "execution_count": null,
      "outputs": []
    },
    {
      "cell_type": "code",
      "source": [
        "vm = SVC( kernel = 'rbf')\n",
        "svm = vm.fit(X_train_sm,y_train_sm)\n",
        "predict = vm.predict(X_test)\n",
        "ac=accuracy_score(y_test , predict)\n",
        "ac"
      ],
      "metadata": {
        "id": "IhyhC56zzxmZ"
      },
      "execution_count": null,
      "outputs": []
    },
    {
      "cell_type": "code",
      "source": [
        "print(classification_report(y_test, predict))"
      ],
      "metadata": {
        "id": "Y1WSkL-a0IvL"
      },
      "execution_count": null,
      "outputs": []
    },
    {
      "cell_type": "code",
      "source": [
        "from sklearn.neighbors import KNeighborsClassifier\n",
        "knn = KNeighborsClassifier(n_neighbors = 3, metric ='manhattan')\n",
        "k_mod = knn.fit(X_train_sm , y_train_sm)\n",
        "y_predict = k_mod.predict(X_test)\n",
        "Acc = accuracy_score(y_test , y_predict)\n",
        "Acc"
      ],
      "metadata": {
        "id": "Z9QhlXpg0X1t"
      },
      "execution_count": null,
      "outputs": []
    },
    {
      "cell_type": "code",
      "source": [
        "from sklearn.model_selection  import StratifiedKFold , cross_val_score\n",
        "stratified_kfold = StratifiedKFold(n_splits=10, shuffle=True, random_state=0)\n",
        "cv_scores = cross_val_score(knn, X, y, cv=stratified_kfold, scoring='accuracy')\n",
        "print(cv_scores)\n",
        "print(cv_scores.mean())\n",
        "\n"
      ],
      "metadata": {
        "id": "Ko4kS9J9O8jY"
      },
      "execution_count": null,
      "outputs": []
    },
    {
      "cell_type": "code",
      "source": [
        "print(classification_report(y_test , y_predict))"
      ],
      "metadata": {
        "id": "ovDLYlb_1aJC"
      },
      "execution_count": null,
      "outputs": []
    },
    {
      "cell_type": "markdown",
      "source": [],
      "metadata": {
        "id": "EnxPYtilmg5O"
      }
    },
    {
      "cell_type": "code",
      "source": [
        "from sklearn.linear_model import LogisticRegression\n",
        "lr =LogisticRegression(random_state =42)\n",
        "lr_m = lr.fit(X_train_sm , y_train_sm)\n",
        "predi = lr_m.predict(X_test)\n",
        "acu = accuracy_score(y_test , predi)\n",
        "acu"
      ],
      "metadata": {
        "id": "0dwe22yI2MUr"
      },
      "execution_count": null,
      "outputs": []
    },
    {
      "cell_type": "code",
      "source": [
        "print(classification_report(y_test , predi))"
      ],
      "metadata": {
        "id": "3fwjwBZg273Y"
      },
      "execution_count": null,
      "outputs": []
    },
    {
      "cell_type": "code",
      "source": [],
      "metadata": {
        "id": "LcWFPg5zQDSL"
      },
      "execution_count": null,
      "outputs": []
    }
  ]
}